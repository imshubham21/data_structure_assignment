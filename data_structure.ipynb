{
 "cells": [
  {
   "cell_type": "markdown",
   "id": "c4b7e18f-a71f-4772-82a7-ca1e034243d8",
   "metadata": {},
   "source": [
    "## 1. Discuss string slicing and give an example."
   ]
  },
  {
   "cell_type": "markdown",
   "id": "964baeb9-b57e-4c15-9d7b-17a5dafa9a53",
   "metadata": {},
   "source": [
    "String slicing is a technique for extracting a section of a string. The following syntax can be used to slice strings in Python."
   ]
  },
  {
   "cell_type": "markdown",
   "id": "413f1e22-43a3-4a80-b859-b51cfe8f43b4",
   "metadata": {},
   "source": [
    "=> string [start:stop:step]"
   ]
  },
  {
   "cell_type": "markdown",
   "id": "23a414e5-b8b8-4a23-9af7-a6e03c04e195",
   "metadata": {},
   "source": [
    "#### start: The index of the first character to include in the slice. If omitted, it defaults to the beginning of the string.\n",
    "#### stop: The index of the character to stop at (but not include in the slice). If omitted, it defaults to the end of the string.\n",
    "#### step: The step size or stride between characters. If omitted, it defaults to 1."
   ]
  },
  {
   "cell_type": "code",
   "execution_count": 18,
   "id": "a5b0da80-0a6a-49d2-a5cc-0e814bec5cef",
   "metadata": {},
   "outputs": [],
   "source": [
    "# Example string\n",
    "movies = [\"Action 1\", \"Action2\", \"Action3\"]"
   ]
  },
  {
   "cell_type": "code",
   "execution_count": 20,
   "id": "85ac5838-cbd5-4aee-8975-22d9592babce",
   "metadata": {},
   "outputs": [
    {
     "data": {
      "text/plain": [
       "['Action2', 'Action3']"
      ]
     },
     "execution_count": 20,
     "metadata": {},
     "output_type": "execute_result"
    }
   ],
   "source": [
    "movies[1:]"
   ]
  },
  {
   "cell_type": "code",
   "execution_count": 24,
   "id": "1f0305ec-6e48-43ca-bec3-3eabecebd1a9",
   "metadata": {},
   "outputs": [
    {
     "data": {
      "text/plain": [
       "['Action 1']"
      ]
     },
     "execution_count": 24,
     "metadata": {},
     "output_type": "execute_result"
    }
   ],
   "source": [
    "movies [0:1]"
   ]
  },
  {
   "cell_type": "markdown",
   "id": "a115bb29-eeb9-40b9-a74b-315ee41dd647",
   "metadata": {},
   "source": [
    "## 2. Explain the key feature of lists in python."
   ]
  },
  {
   "cell_type": "markdown",
   "id": "8fe27621-1b34-427b-9f4e-e3ce454ff2ec",
   "metadata": {},
   "source": [
    "a. Ordered: Lists maintain the order of elements as they are inserted.\n",
    "\n",
    "b. Heterogeneous Elements: Lists can hold elements of different data types. For example, a list can contain [1, \"RAJ\", 4.6, boolean]\n",
    "\n",
    "c. Mutable: Lists are mutable, meaning that you can change, add, or remove elements after the list has been created. This makes lists flexible and adaptable."
   ]
  },
  {
   "cell_type": "markdown",
   "id": "8229205e-cb92-4fd7-aa42-9076667ab431",
   "metadata": {},
   "source": [
    "d. Supports Various Methods: Python lists come with a variety of built-in methods that simplify operations like adding, removing, and modifying elements. Some common methods include append(), extend(), remove(), pop(), insert(), and sort()."
   ]
  },
  {
   "cell_type": "markdown",
   "id": "b44305ee-4c01-42c4-9956-d365848af0bb",
   "metadata": {},
   "source": [
    "e. Slicing: Lists support slicing, which allows you to extract sublists."
   ]
  },
  {
   "cell_type": "markdown",
   "id": "5ee14385-2eef-466d-b60c-d5a4203b665d",
   "metadata": {},
   "source": [
    "## 3. Describe how to access, modify and delete elements in a list with examples."
   ]
  },
  {
   "cell_type": "markdown",
   "id": "521cfc4a-e7d4-45fc-8829-132f8403f44d",
   "metadata": {},
   "source": [
    "#### a. Modifying Elements:\n",
    "You can modify elements in a list by assigning a new value to a specific index."
   ]
  },
  {
   "cell_type": "code",
   "execution_count": 36,
   "id": "806dd4ec-9539-4202-a78c-3531695ab48d",
   "metadata": {},
   "outputs": [
    {
     "data": {
      "text/plain": [
       "['Ipad', 'Macbook', 'Iphone']"
      ]
     },
     "execution_count": 36,
     "metadata": {},
     "output_type": "execute_result"
    }
   ],
   "source": [
    "## modification examples 1 : \n",
    "my_list = [\"Ipad\", \"Macbook\", \"Iphone\"]\n",
    "my_list"
   ]
  },
  {
   "cell_type": "code",
   "execution_count": 38,
   "id": "ef7f42e9-4c56-403e-9ad1-25af3f3a5c70",
   "metadata": {},
   "outputs": [
    {
     "data": {
      "text/plain": [
       "['Ipad', 'Macbook', 'OnePlus']"
      ]
     },
     "execution_count": 38,
     "metadata": {},
     "output_type": "execute_result"
    }
   ],
   "source": [
    "my_list [2] = \"OnePlus\"\n",
    "my_list"
   ]
  },
  {
   "cell_type": "code",
   "execution_count": 40,
   "id": "0b606ccd-61fd-4996-9775-c082e4cbd25b",
   "metadata": {},
   "outputs": [
    {
     "data": {
      "text/plain": [
       "['Apple', 'Mango', 'Banana']"
      ]
     },
     "execution_count": 40,
     "metadata": {},
     "output_type": "execute_result"
    }
   ],
   "source": [
    "## modification examples 2 : \n",
    "grocery_list = [\"Apple\", \"Mango\", \"Banana\"]\n",
    "grocery_list"
   ]
  },
  {
   "cell_type": "code",
   "execution_count": 42,
   "id": "2b308752-3a0b-4802-bfbb-7f35c5c5fecc",
   "metadata": {},
   "outputs": [
    {
     "data": {
      "text/plain": [
       "['Apple', 'carrot', 'Banana']"
      ]
     },
     "execution_count": 42,
     "metadata": {},
     "output_type": "execute_result"
    }
   ],
   "source": [
    "grocery_list [1] = \"carrot\"\n",
    "grocery_list"
   ]
  },
  {
   "cell_type": "markdown",
   "id": "b01854e1-e677-4732-a927-84be298e50d3",
   "metadata": {},
   "source": [
    "### b. Accessing Elements:\n",
    "Elements in a list are accessed using indexing. Indexing starts at 0 for the first element, 1 for the second element, and so on."
   ]
  },
  {
   "cell_type": "code",
   "execution_count": 48,
   "id": "f15e9d6d-10dc-4c3d-9a03-d4c95ca10bc9",
   "metadata": {},
   "outputs": [
    {
     "name": "stdout",
     "output_type": "stream",
     "text": [
      "['Ipad', 'Macbook', 'Iphone']\n"
     ]
    }
   ],
   "source": [
    "## Accessing Elements example 1:\n",
    "my_list = my_list = [\"Ipad\", \"Macbook\", \"Iphone\"]\n",
    "print (my_list)"
   ]
  },
  {
   "cell_type": "code",
   "execution_count": 56,
   "id": "da759266-caa4-429d-b123-a97702047558",
   "metadata": {},
   "outputs": [
    {
     "data": {
      "text/plain": [
       "'Macbook'"
      ]
     },
     "execution_count": 56,
     "metadata": {},
     "output_type": "execute_result"
    }
   ],
   "source": [
    "my_list [1]"
   ]
  },
  {
   "cell_type": "code",
   "execution_count": 52,
   "id": "2fdca896-9fb8-4749-b25c-e7cdc439166c",
   "metadata": {},
   "outputs": [
    {
     "data": {
      "text/plain": [
       "'Iphone'"
      ]
     },
     "execution_count": 52,
     "metadata": {},
     "output_type": "execute_result"
    }
   ],
   "source": [
    "my_list [2]"
   ]
  },
  {
   "cell_type": "code",
   "execution_count": 54,
   "id": "ea90f06c-24f5-4e9f-8abe-017efe5fb4b3",
   "metadata": {},
   "outputs": [
    {
     "data": {
      "text/plain": [
       "'Macbook'"
      ]
     },
     "execution_count": 54,
     "metadata": {},
     "output_type": "execute_result"
    }
   ],
   "source": [
    "my_list [-2]"
   ]
  },
  {
   "cell_type": "code",
   "execution_count": 64,
   "id": "65e15089-c4c4-4020-b316-9248c55b0240",
   "metadata": {},
   "outputs": [
    {
     "name": "stdout",
     "output_type": "stream",
     "text": [
      "['Apple', 'Mango', 'Banana']\n"
     ]
    }
   ],
   "source": [
    "## Accessing Elements example 2:\n",
    "grocery_list = [\"Apple\", \"Mango\", \"Banana\"]\n",
    "print (grocery_list)"
   ]
  },
  {
   "cell_type": "code",
   "execution_count": 60,
   "id": "8d3a66ab-ecd2-47e8-bce2-fb4a68187410",
   "metadata": {},
   "outputs": [
    {
     "data": {
      "text/plain": [
       "'Mango'"
      ]
     },
     "execution_count": 60,
     "metadata": {},
     "output_type": "execute_result"
    }
   ],
   "source": [
    "grocery_list [-2]"
   ]
  },
  {
   "cell_type": "code",
   "execution_count": 62,
   "id": "0dfad106-4733-403e-9783-7955eaf5499c",
   "metadata": {},
   "outputs": [
    {
     "data": {
      "text/plain": [
       "'Apple'"
      ]
     },
     "execution_count": 62,
     "metadata": {},
     "output_type": "execute_result"
    }
   ],
   "source": [
    "grocery_list [0]"
   ]
  },
  {
   "cell_type": "markdown",
   "id": "da6a561d-98c5-4d4d-b0a8-ba7bf9d7d5d1",
   "metadata": {},
   "source": [
    "### c. Deleting Elements:\n",
    "You can delete elements from a list using several methods: del, pop(), and remove()."
   ]
  },
  {
   "cell_type": "code",
   "execution_count": 81,
   "id": "37673f4b-3252-4897-9ab9-98250cb03ff6",
   "metadata": {},
   "outputs": [
    {
     "name": "stdout",
     "output_type": "stream",
     "text": [
      "['Apple', 'Mango', 'Banana', 'Chiku', 'Pinnaple']\n"
     ]
    }
   ],
   "source": [
    "## Deleting Elements example 1:\n",
    "shopping_list = [\"Apple\", \"Mango\", \"Banana\", \"Chiku\", \"Pinnaple\"]\n",
    "print (shopping_list)"
   ]
  },
  {
   "cell_type": "code",
   "execution_count": 211,
   "id": "0f04ac9b-f641-480e-a44c-6152e063b9c3",
   "metadata": {},
   "outputs": [
    {
     "name": "stdout",
     "output_type": "stream",
     "text": [
      "['bananas', 'mango']\n"
     ]
    }
   ],
   "source": [
    "del shopping_list[1]  ## del example\n",
    "print(shopping_list)"
   ]
  },
  {
   "cell_type": "code",
   "execution_count": 97,
   "id": "baffa6c8-c751-42f0-a0b9-c43153d71107",
   "metadata": {},
   "outputs": [
    {
     "data": {
      "text/plain": [
       "['apple', 'banana', 'cherry', 'date']"
      ]
     },
     "execution_count": 97,
     "metadata": {},
     "output_type": "execute_result"
    }
   ],
   "source": [
    "my_list = ['apple', 'banana', 'cherry', 'date']\n",
    "my"
   ]
  },
  {
   "cell_type": "code",
   "execution_count": 95,
   "id": "413cb03a-cb8b-43a5-be30-b2fef699c415",
   "metadata": {},
   "outputs": [
    {
     "name": "stdout",
     "output_type": "stream",
     "text": [
      "['apple', 'cherry', 'date']\n"
     ]
    }
   ],
   "source": [
    "my_list.remove('banana')  # Removes example\n",
    "print(my_list)"
   ]
  },
  {
   "cell_type": "code",
   "execution_count": 99,
   "id": "53e0d291-57e6-4882-9f09-94ce5f35f23f",
   "metadata": {},
   "outputs": [
    {
     "data": {
      "text/plain": [
       "['pinneapple', 'orange', 'kiwi', 'mango']"
      ]
     },
     "execution_count": 99,
     "metadata": {},
     "output_type": "execute_result"
    }
   ],
   "source": [
    "my_list1 = ['pinneapple', 'orange', 'kiwi', 'mango']\n",
    "my_list1"
   ]
  },
  {
   "cell_type": "code",
   "execution_count": 108,
   "id": "04eca94f-5aed-4abb-a130-35a0f65adb2b",
   "metadata": {},
   "outputs": [
    {
     "name": "stdout",
     "output_type": "stream",
     "text": [
      "kiwi\n",
      "['apple', 'banana', 'cherry', 'date']\n"
     ]
    }
   ],
   "source": [
    "removed_item = my_list1.pop(1)  # pop example\n",
    "print(removed_item)  \n",
    "print(my_list)"
   ]
  },
  {
   "cell_type": "code",
   "execution_count": 103,
   "id": "3271d1d6-f5a8-42d5-8667-efaf8306ee36",
   "metadata": {},
   "outputs": [
    {
     "name": "stdout",
     "output_type": "stream",
     "text": [
      "mango\n",
      "['apple', 'banana', 'cherry', 'date']\n"
     ]
    }
   ],
   "source": [
    "last_item = my_list1.pop()\n",
    "print(last_item) \n",
    "print(my_list)"
   ]
  },
  {
   "cell_type": "markdown",
   "id": "f3372cdf-cd08-45a5-90a8-3eaa3b7e9ed0",
   "metadata": {},
   "source": [
    "## 4. Compare and contrast tuples and lists with examples"
   ]
  },
  {
   "cell_type": "markdown",
   "id": "5d3834fa-6bd0-4d22-a59b-8215e9ddedc0",
   "metadata": {},
   "source": [
    "#### Although lists and tuples are both essential Python data structures, there are some significant distinctions between them. Now let's contrast and compare them:"
   ]
  },
  {
   "cell_type": "markdown",
   "id": "5ad64e4f-9afa-4382-8722-8cee6206e9c5",
   "metadata": {},
   "source": [
    "### 4.1 Mutability:"
   ]
  },
  {
   "cell_type": "markdown",
   "id": "e294e8f9-e0f5-4e2e-a87e-81e900df4e3d",
   "metadata": {},
   "source": [
    "#### ~ Lists are mutable. After a list is generated, its contents can be altered by adding, deleting, or changing certain components.\n",
    "\n",
    "#### ~ Tuples are immutable. You are not allowed to add, remove, or alter elements from a tuple once it has been generated."
   ]
  },
  {
   "cell_type": "code",
   "execution_count": 119,
   "id": "f327bc74-9320-448d-9acf-2931a4833627",
   "metadata": {},
   "outputs": [
    {
     "name": "stdout",
     "output_type": "stream",
     "text": [
      "[1, 20, 3, 4]\n"
     ]
    }
   ],
   "source": [
    "# Lists\n",
    "my_list = [1, 2, 3]\n",
    "my_list[1] = 20  # Modifying an element\n",
    "my_list.append(4)  # Adding an element\n",
    "print(my_list)  # Output: [1, 20, 3, 4]"
   ]
  },
  {
   "cell_type": "code",
   "execution_count": 121,
   "id": "17409fad-97d6-4403-866e-621a1d374069",
   "metadata": {},
   "outputs": [
    {
     "name": "stdout",
     "output_type": "stream",
     "text": [
      "(1, 2, 3)\n"
     ]
    }
   ],
   "source": [
    "# Tuples\n",
    "my_tuple = (1, 2, 3)\n",
    "# my_tuple[1] = 20  # Raises TypeError: 'tuple' object does not support item assignment\n",
    "# my_tuple.append(4)  # Raises AttributeError: 'tuple' object has no attribute 'append'\n",
    "print(my_tuple)  # Output: (1, 2, 3)"
   ]
  },
  {
   "cell_type": "markdown",
   "id": "c32993e7-4256-42b6-8154-79b97b2e554b",
   "metadata": {},
   "source": [
    "### 4.2 Syntax:\n",
    "~ Lists: Defined using square brackets [ ].\n",
    "\n",
    "~ Tuples: Defined using parentheses ( )."
   ]
  },
  {
   "cell_type": "code",
   "execution_count": 129,
   "id": "ff6dd3b8-45c6-4367-973b-ea01d55a25a8",
   "metadata": {},
   "outputs": [],
   "source": [
    "# Lists\n",
    "my_list = [1, 2, 3]\n",
    "\n",
    "# Tuples\n",
    "my_tuple = (\"a, b, c\")"
   ]
  },
  {
   "cell_type": "markdown",
   "id": "145f99f3-c453-4ab6-a2a5-dbcf38973bcd",
   "metadata": {},
   "source": [
    "### 4.3 Use Cases\n",
    "~ Lists: Used when you need a collection of items that might change over time. Lists are ideal for sequences of items that may need to be modified.\n",
    "\n",
    "~ Tuples: Used when you need a collection of items that should remain constant. Tuples are often used for fixed data structures or for keys in dictionaries, where immutability is necessary."
   ]
  },
  {
   "cell_type": "code",
   "execution_count": 136,
   "id": "3da8e07e-522f-434c-be93-706b65f4eefe",
   "metadata": {},
   "outputs": [
    {
     "name": "stdout",
     "output_type": "stream",
     "text": [
      "['bananas', 'cherries', 'mango']\n"
     ]
    }
   ],
   "source": [
    "# List for dynamic collection\n",
    "shopping_list = ['apples', 'bananas', 'cherries']\n",
    "shopping_list.append('mango')  # Adding an item\n",
    "shopping_list.remove('apples')  # Removing an item\n",
    "print(shopping_list)  # Output: ['bananas', 'cherries', 'mango']"
   ]
  },
  {
   "cell_type": "code",
   "execution_count": 138,
   "id": "8529df7f-7edf-4fff-b179-cf2086e94607",
   "metadata": {},
   "outputs": [
    {
     "name": "stdout",
     "output_type": "stream",
     "text": [
      "('John', 'Doe', 30)\n"
     ]
    }
   ],
   "source": [
    "# Tuple for fixed data structure\n",
    "person = ('John', 'Doe', 30)  # Immutable data\n",
    "# person[1] = 'Smith'  # Raises TypeError: 'tuple' object does not support item assignment\n",
    "print(person) "
   ]
  },
  {
   "cell_type": "markdown",
   "id": "869fc1d9-dd01-4fd2-a022-f03602914d9d",
   "metadata": {},
   "source": [
    "### 4.4 Methods:\n",
    "~Lists: Have several methods available, such as append(), remove(), extend(), insert(), and pop().\n",
    "\n",
    "~Tuples: Have fewer methods, mostly count() and index(), due to their immutability.\n"
   ]
  },
  {
   "cell_type": "code",
   "execution_count": 144,
   "id": "47bce2c5-1d5a-40bd-8ce8-131001caab52",
   "metadata": {},
   "outputs": [
    {
     "name": "stdout",
     "output_type": "stream",
     "text": [
      "[1, 3, 4]\n"
     ]
    }
   ],
   "source": [
    "# List methods\n",
    "my_list = [1, 2, 3]\n",
    "my_list.append(4)  # Adds 4 to the end\n",
    "my_list.remove(2)  # Removes the first occurrence of 2\n",
    "print(my_list) "
   ]
  },
  {
   "cell_type": "code",
   "execution_count": 146,
   "id": "534536fd-e66e-4513-aa4f-e4547e04a409",
   "metadata": {},
   "outputs": [
    {
     "name": "stdout",
     "output_type": "stream",
     "text": [
      "2\n",
      "2\n"
     ]
    }
   ],
   "source": [
    "# Tuple methods\n",
    "my_tuple = (1, 2, 3, 2)\n",
    "count_of_2 = my_tuple.count(2)  # Counts occurrences of 2\n",
    "index_of_3 = my_tuple.index(3)  # Finds index of first occurrence of 3\n",
    "print(count_of_2)  \n",
    "print(index_of_3)  "
   ]
  },
  {
   "cell_type": "markdown",
   "id": "e0f1753e-25ce-4033-b08d-d13da9a4b85c",
   "metadata": {},
   "source": [
    "## 5. Describe the key feature of sets and provide examples of their use.\n",
    "Sets in Python are a built-in data type that represents a collection of unique elements.They are particularly useful when you need to handle collections of items where duplicates are not allowed.\n",
    "\n",
    "Here are some key features of sets and examples of their use:"
   ]
  },
  {
   "cell_type": "markdown",
   "id": "f743d1ba-5e7b-454e-9080-7f0294fabb77",
   "metadata": {},
   "source": [
    "### 5.1 Unordered: \n",
    "Sets do not maintain the order of elements. The order in which elements are added is not preserved."
   ]
  },
  {
   "cell_type": "code",
   "execution_count": 176,
   "id": "625d2281-9ae6-4b73-93ec-f9b4ca8a7b18",
   "metadata": {},
   "outputs": [
    {
     "data": {
      "text/plain": [
       "{'blue', 'orange', 'pink', 'red'}"
      ]
     },
     "execution_count": 176,
     "metadata": {},
     "output_type": "execute_result"
    }
   ],
   "source": [
    "colour ={\"red\", \"orange\", \"blue\", \"pink\", \"pink\"}\n",
    "colour"
   ]
  },
  {
   "cell_type": "markdown",
   "id": "8638b90c-0849-4595-bd08-3000bdf44442",
   "metadata": {},
   "source": [
    "### 5.2 Unique Elements: \n",
    "Sets automatically enforce uniqueness. Duplicate elements are not allowed; if you try to add a duplicate, it will be ignored."
   ]
  },
  {
   "cell_type": "code",
   "execution_count": 202,
   "id": "30d1e684-63a0-42ab-8ca6-0f568b37fe0b",
   "metadata": {},
   "outputs": [
    {
     "data": {
      "text/plain": [
       "{'apple', 'candies', 'chocolate', 'mobilephone'}"
      ]
     },
     "execution_count": 202,
     "metadata": {},
     "output_type": "execute_result"
    }
   ],
   "source": [
    "my_list = {\"apple\", \"chocolate\", \"candies\", \"apple\", \"mobilephone\", \"chocolate\"}\n",
    "my_list"
   ]
  },
  {
   "cell_type": "markdown",
   "id": "09394c7f-edac-47f4-bce9-e9960b533e61",
   "metadata": {},
   "source": [
    "### 5.3 Mutable: \n",
    "Sets are mutable, meaning you can add or remove elements after the set has been created."
   ]
  },
  {
   "cell_type": "code",
   "execution_count": 187,
   "id": "0b59dcbb-13f8-4669-8439-1c9742cea852",
   "metadata": {},
   "outputs": [
    {
     "data": {
      "text/plain": [
       "{'apple', 'banana', 'candies', 'chocolate', 'mobilephone'}"
      ]
     },
     "execution_count": 187,
     "metadata": {},
     "output_type": "execute_result"
    }
   ],
   "source": [
    "## addting of an object.\n",
    "my_list = {\"apple\", \"chocolate\", \"candies\", \"apple\", \"mobilephone\", \"chocolate\"}\n",
    "my_list.add (\"banana\")\n",
    "my_list"
   ]
  },
  {
   "cell_type": "code",
   "execution_count": 192,
   "id": "8fde816d-014b-4860-a550-f0f4f498e98a",
   "metadata": {},
   "outputs": [
    {
     "data": {
      "text/plain": [
       "{'candies', 'chocolate', 'mobilephone'}"
      ]
     },
     "execution_count": 192,
     "metadata": {},
     "output_type": "execute_result"
    }
   ],
   "source": [
    "## since sets are mutable so we can also remove the object from sets.\n",
    "my_list = {\"apple\", \"chocolate\", \"candies\", \"apple\", \"mobilephone\", \"chocolate\"}\n",
    "my_list.remove (\"apple\")\n",
    "my_list"
   ]
  },
  {
   "cell_type": "markdown",
   "id": "4f7b92f5-a9db-43db-8f36-8a213026ca7a",
   "metadata": {},
   "source": [
    "### 5.4 No Indexing: \n",
    "Because sets are unordered, you cannot access elements by index. Instead, you use iteration or membership tests."
   ]
  },
  {
   "cell_type": "code",
   "execution_count": 199,
   "id": "78115027-e667-4175-9a5f-385f947f3ff6",
   "metadata": {},
   "outputs": [
    {
     "ename": "TypeError",
     "evalue": "'set' object is not subscriptable",
     "output_type": "error",
     "traceback": [
      "\u001b[0;31m---------------------------------------------------------------------------\u001b[0m",
      "\u001b[0;31mTypeError\u001b[0m                                 Traceback (most recent call last)",
      "Cell \u001b[0;32mIn[199], line 1\u001b[0m\n\u001b[0;32m----> 1\u001b[0m my_list [\u001b[38;5;241m0\u001b[39m]\n",
      "\u001b[0;31mTypeError\u001b[0m: 'set' object is not subscriptable"
     ]
    }
   ],
   "source": [
    "my_list [0]   ## 'set' object is subscriptable so indexing is not possible here. hence it will through an error."
   ]
  },
  {
   "cell_type": "markdown",
   "id": "13713b4b-1643-4f35-9aaf-d36fd9bea418",
   "metadata": {},
   "source": [
    "## 6. Discuss the use cases of tuples and sets in Python programming.\n",
    "\n",
    "Tuples and sets in Python each have distinct characteristics that make them suitable for different use cases. Here’s a detailed discussion on when and why you might use each data structure:"
   ]
  },
  {
   "cell_type": "markdown",
   "id": "b7ee713c-e999-4f06-9080-e870b7a5dd69",
   "metadata": {},
   "source": [
    "### Use Cases for Tuples:\n",
    "a. Immutable Data: \n",
    "\n",
    "Tuples are immutable, meaning their contents cannot be changed after creation. This immutability makes tuples ideal for representing fixed collections of items that should not be altered. For example:\n",
    "\n",
    "~ Coordinates: Representing a geographic location as (latitude, longitude).\n",
    "\n",
    "~ Office employee id list."
   ]
  },
  {
   "cell_type": "code",
   "execution_count": 224,
   "id": "16fca34c-0e7b-48f7-a416-573e3d08f8c5",
   "metadata": {},
   "outputs": [],
   "source": [
    "location = (40.7128, -74.0060)  # New York City coordinates\n",
    "emp_id = (\"Amex001, Amex002, Amex003, Amex004\")  # amex emp id list."
   ]
  },
  {
   "cell_type": "markdown",
   "id": "1576ed0f-aa5e-4a57-aa09-2e5f460ddc71",
   "metadata": {},
   "source": [
    "b. Dictionary Keys: \n",
    "\n",
    "Since tuples are immutable, they can be used as keys in dictionaries, whereas lists cannot. This is useful when you need a composite key made of multiple values."
   ]
  },
  {
   "cell_type": "code",
   "execution_count": 229,
   "id": "13518646-deb2-4771-92f6-c40c3ae62a04",
   "metadata": {},
   "outputs": [
    {
     "name": "stdout",
     "output_type": "stream",
     "text": [
      "New York City\n"
     ]
    }
   ],
   "source": [
    "# Using tuples as dictionary keys\n",
    "locations = {\n",
    "    (40.7128, -74.0060): \"New York City\",\n",
    "    (34.0522, -118.2437): \"Los Angeles\"\n",
    "}\n",
    "print(locations[(40.7128, -74.0060)])  # Output: New York City"
   ]
  },
  {
   "cell_type": "markdown",
   "id": "d7a52cc6-b19e-424f-8c91-5734eea96052",
   "metadata": {},
   "source": [
    "c. Fixed Data Structures: \n",
    "\n",
    "Tuples are suitable for fixed-size, heterogeneous data structures where elements should remain constant."
   ]
  },
  {
   "cell_type": "code",
   "execution_count": 232,
   "id": "717faa5e-2135-40d7-9034-d7f23cd59c22",
   "metadata": {},
   "outputs": [],
   "source": [
    "record = (\"Alice\", 25, \"Engineer\")"
   ]
  },
  {
   "cell_type": "markdown",
   "id": "812eadd8-dac2-45cd-b9ec-a27bf326ab65",
   "metadata": {},
   "source": [
    "d. Performance: \n",
    "\n",
    "Due to their immutability, tuples can be slightly more performant for certain operations compared to lists. This is especially true when used in contexts where their immutability is advantageous, such as insets or as keys in dictionaries."
   ]
  },
  {
   "cell_type": "markdown",
   "id": "f4c39f69-5afc-4fec-af96-d2d3e3414618",
   "metadata": {},
   "source": [
    "### Use Cases for Sets: \n",
    "\n",
    "#### a. Uniqueness: \n",
    "\n",
    "Sets automatically enforce uniqueness, making them perfect for situations where you need to ensure that there are no duplicate elements. For example:\n",
    "\n",
    "~ Unique Items: Tracking unique items in a collection, such as unique user IDs.\n",
    "\n",
    "~ Removing Duplicates: Removing duplicates from a list."
   ]
  },
  {
   "cell_type": "code",
   "execution_count": 239,
   "id": "34b70ddb-92f5-4865-a497-0501af38e5ba",
   "metadata": {},
   "outputs": [
    {
     "name": "stdout",
     "output_type": "stream",
     "text": [
      "{1, 2, 3, 4, 5}\n"
     ]
    }
   ],
   "source": [
    "unique_ids = {1, 2, 3, 4, 5}\n",
    "ids_from_list = [1, 2, 2, 3, 4, 4, 5]\n",
    "unique_ids_from_list = set(ids_from_list)\n",
    "print(unique_ids_from_list)  # Output: {1, 2, 3, 4, 5}"
   ]
  },
  {
   "cell_type": "markdown",
   "id": "ca3f67e2-9ef4-4abd-aceb-e089811b8ac2",
   "metadata": {},
   "source": [
    "#### b. Data Deduplication: \n",
    "\n",
    "Sets are useful for eliminating duplicate entries in data processing tasks. This is particularly handy when working with data sets that may contain repeated values.\n"
   ]
  },
  {
   "cell_type": "code",
   "execution_count": 242,
   "id": "ba65f88d-090b-457b-bb6d-711219a3c27a",
   "metadata": {},
   "outputs": [
    {
     "name": "stdout",
     "output_type": "stream",
     "text": [
      "{'apple', 'banana', 'orange'}\n"
     ]
    }
   ],
   "source": [
    "data = ['apple', 'banana', 'apple', 'orange', 'banana']\n",
    "unique_data = set(data)\n",
    "print(unique_data)  # Output: {'banana', 'apple', 'orange'}\n"
   ]
  },
  {
   "cell_type": "markdown",
   "id": "ad5e7909-eb82-4bab-9516-dcb7ce69fb0a",
   "metadata": {},
   "source": [
    "#### c. Membership Testing: \n",
    "\n",
    "Sets are optimized for membership testing, allowing you to check if an element is present in constant time. This is useful for efficiently checking for the existence of elements in large collections."
   ]
  },
  {
   "cell_type": "code",
   "execution_count": 247,
   "id": "c9587c1d-a96d-44c8-a418-f0a4487e747b",
   "metadata": {},
   "outputs": [
    {
     "name": "stdout",
     "output_type": "stream",
     "text": [
      "True\n",
      "False\n"
     ]
    }
   ],
   "source": [
    "my_set = {1, 2, 3, 4, 5}\n",
    "print(3 in my_set)  # Output: True\n",
    "print(6 in my_set)  # Output: False"
   ]
  },
  {
   "cell_type": "markdown",
   "id": "7067aa6a-a076-43e1-9777-bd3b875f759c",
   "metadata": {},
   "source": [
    "## 7. Describe how to add, modify and delete item in a dictionary with examples.\n",
    "\n",
    "Dictionaries in Python are mutable, unordered collections of key-value pairs."
   ]
  },
  {
   "cell_type": "markdown",
   "id": "bbbd72dc-22c0-439d-a313-2dfa53168858",
   "metadata": {},
   "source": [
    "### ~ Adding Items with examples:\n",
    "To add items to a dictionary, you simply assign a value to a new key."
   ]
  },
  {
   "cell_type": "code",
   "execution_count": 256,
   "id": "5e29f6bc-b412-4160-b4db-4bf79beefa73",
   "metadata": {},
   "outputs": [
    {
     "name": "stdout",
     "output_type": "stream",
     "text": [
      "{'name': 'shubham', 'age': 26, 'city': 'Delhi'}\n"
     ]
    }
   ],
   "source": [
    "# Creating an initial dictionary\n",
    "first_dict = {'name': 'shubham', 'age': 26}\n",
    "\n",
    "# Adding a new key-value pair\n",
    "first_dict['city'] = 'Delhi'\n",
    "\n",
    "print (first_dict)"
   ]
  },
  {
   "cell_type": "markdown",
   "id": "4c4e1636-d0b3-42b3-8962-933893ff9c48",
   "metadata": {},
   "source": [
    "### ~ Modifying Items:\n",
    "To modify an item in a dictionary, you assign a new value to an existing key."
   ]
  },
  {
   "cell_type": "code",
   "execution_count": 267,
   "id": "144b0b06-06ff-4183-a57d-7d62a927783b",
   "metadata": {},
   "outputs": [
    {
     "name": "stdout",
     "output_type": "stream",
     "text": [
      "{'name': 'shubham', 'age': 28}\n"
     ]
    }
   ],
   "source": [
    "first_dict = {'name': 'shubham', 'age': 26}\n",
    "\n",
    "# Modifying the value for an existing key\n",
    "first_dict['age'] = 28\n",
    "\n",
    "print (first_dict)"
   ]
  },
  {
   "cell_type": "markdown",
   "id": "563f544c-c99d-4f9a-8995-da306e4b7d41",
   "metadata": {},
   "source": [
    "### ~ Deleting Items:\n",
    "You can delete items from a dictionary using the del statement or the pop() method."
   ]
  },
  {
   "cell_type": "code",
   "execution_count": 275,
   "id": "2cbb771e-eb76-43c4-b010-a7ff3656910b",
   "metadata": {},
   "outputs": [
    {
     "name": "stdout",
     "output_type": "stream",
     "text": [
      "{'name': 'shubham', 'age': 26}\n"
     ]
    }
   ],
   "source": [
    "## Using del Statement:\n",
    "my_dict = {'name': 'shubham', 'age': 26, 'city': 'Delhi'}\n",
    "del my_dict['city']\n",
    "\n",
    "print(my_dict)"
   ]
  },
  {
   "cell_type": "code",
   "execution_count": 291,
   "id": "b35a83f9-31ba-4471-9e33-1140c69b3e7d",
   "metadata": {},
   "outputs": [
    {
     "name": "stdout",
     "output_type": "stream",
     "text": [
      "Delhi\n",
      "{'name': 'shubham', 'age': 26}\n"
     ]
    }
   ],
   "source": [
    "## Using pop Statement:\n",
    "my_dict = {'name': 'shubham', 'age': 26, 'city': 'Delhi'}\n",
    "\n",
    "# Removing an item using pop() and getting its value\n",
    "city_value = my_dict.pop('city')\n",
    "\n",
    "print(city_value)\n",
    "print (my_dict)"
   ]
  },
  {
   "cell_type": "markdown",
   "id": "7afdbe3a-0748-43ba-b171-3ee7611538a6",
   "metadata": {},
   "source": [
    "## 8. Discuss the importance of dictionary keys being immutable and provide examples.\n",
    "\n",
    "Dictionary keys must be immutable. This requirement is crucial for maintaining the integrity and efficiency of dictionary operations. Here’s why immutable keys are important, along with examples:"
   ]
  },
  {
   "cell_type": "markdown",
   "id": "dc717aab-8027-41dc-a88d-10e9e1ee0d80",
   "metadata": {},
   "source": [
    "#### 8.1 Uniqueness: \n",
    "\n",
    "Since dictionary keys must be unique, immutability helps in maintaining this uniqueness. If keys were mutable, it could be challenging to enforce and check the uniqueness constraint, leading to potential conflicts and data integrity issues."
   ]
  },
  {
   "cell_type": "markdown",
   "id": "a4d93aba-3465-42eb-88f6-880bbb9438a8",
   "metadata": {},
   "source": [
    "#### 8.2 Efficiency: \n",
    "\n",
    "Immutable keys allow for efficient memory management and faster operations. Since the hash value of an immutable key remains constant, operations such as lookups, insertions, and deletions are optimized."
   ]
  },
  {
   "cell_type": "markdown",
   "id": "97155ac3-94a8-4cc9-a87d-37befffa9e62",
   "metadata": {},
   "source": [
    "#### 8.3 Predictability: \n",
    "\n",
    "Immutability provides predictability in dictionary behavior. When you use an immutable type as a key, you can be confident that the key’s identity and hash value will not change, which simplifies debugging and reasoning about the code."
   ]
  },
  {
   "cell_type": "markdown",
   "id": "7884f555-318f-42ee-80c2-1604e58b8ac7",
   "metadata": {},
   "source": [
    "~ Examples of immutable keys:\n",
    "\n",
    "- Strings: 'hello'\n",
    "- Integers: 123\n",
    "- Floats: 3.14\n",
    "- Tuples: (1, 2, 3)"
   ]
  },
  {
   "cell_type": "markdown",
   "id": "20ade80e-900c-4a8c-8f8a-d9ce637b2bd3",
   "metadata": {},
   "source": [
    "~ Examples of mutable keys (which cannot be used):\n",
    "\n",
    "- Lists: [1, 2, 3]\n",
    "- Dictionaries: {'a': 1}\n",
    "- Sets: {1, 2, 3}"
   ]
  }
 ],
 "metadata": {
  "kernelspec": {
   "display_name": "Python 3 (ipykernel)",
   "language": "python",
   "name": "python3"
  },
  "language_info": {
   "codemirror_mode": {
    "name": "ipython",
    "version": 3
   },
   "file_extension": ".py",
   "mimetype": "text/x-python",
   "name": "python",
   "nbconvert_exporter": "python",
   "pygments_lexer": "ipython3",
   "version": "3.12.4"
  }
 },
 "nbformat": 4,
 "nbformat_minor": 5
}
